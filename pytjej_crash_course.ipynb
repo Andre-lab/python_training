{
 "cells": [
  {
   "cell_type": "markdown",
   "metadata": {},
   "source": [
    "## Jupyter notebook and python explained in 15minutes\n",
    "Diving into deep water. \n",
    "<img src=\"images/diving.jpg\">"
   ]
  },
  {
   "cell_type": "markdown",
   "metadata": {},
   "source": [
    "## Jupyter notebook"
   ]
  },
  {
   "cell_type": "markdown",
   "metadata": {},
   "source": [
    "### Here we are - this is a jupyter notebook.\n",
    "\n",
    "What features will we use?\n",
    "- Different Cell types (_code_, _markdown_)\n",
    "- Run cell: `shift`+`enter`\n",
    "- Run all cells (probably won't need it)\n",
    "- Saving; exporting (probably won't need it too). "
   ]
  },
  {
   "cell_type": "markdown",
   "metadata": {},
   "source": [
    "## Python "
   ]
  },
  {
   "cell_type": "markdown",
   "metadata": {},
   "source": [
    "### Assaigments (almost like in the math)"
   ]
  },
  {
   "cell_type": "markdown",
   "metadata": {},
   "source": [
    "In Python it is easy to tell the computer that something equals to somethihng else. Let's say that `x` eqauls 1 than then only thing we need to write is   "
   ]
  },
  {
   "cell_type": "code",
   "execution_count": null,
   "metadata": {},
   "outputs": [],
   "source": [
    "x = 1"
   ]
  },
  {
   "cell_type": "markdown",
   "metadata": {},
   "source": [
    "We can also assaign string to our `x` and then it will then look like this"
   ]
  },
  {
   "cell_type": "code",
   "execution_count": null,
   "metadata": {},
   "outputs": [],
   "source": [
    "x = 'Hello'"
   ]
  },
  {
   "cell_type": "markdown",
   "metadata": {},
   "source": [
    "### Python modules "
   ]
  },
  {
   "cell_type": "markdown",
   "metadata": {},
   "source": [
    "Python provides a great variety of modules (almost infinite number) that can do the job without coding it from the scratch. Some of these modules are directly avaialable from python while others require installation. For this jupyter notebook some modules were already preinstalled, so don't worry about it!. In order to use python module two steps are required. We first need to import module and second reference/call it from the code. In this case we use mathematical module called `numpy` and we will call square root calculation from it `sqrt` e.g."
   ]
  },
  {
   "cell_type": "code",
   "execution_count": null,
   "metadata": {},
   "outputs": [],
   "source": [
    "from numpy import sqrt\n",
    "x = 2\n",
    "y = numpy.sqrt(x)\n",
    "print(y)"
   ]
  },
  {
   "cell_type": "markdown",
   "metadata": {},
   "source": [
    "### Functions"
   ]
  },
  {
   "cell_type": "markdown",
   "metadata": {},
   "source": [
    "Function works eseentially the same way as in math, the difference is that they don't necessarily take numbers at the input and not necesarily produce number at the output. If we use the above example of square root `sqrt`it took `x = 2`at input and produced `y` which is also the number (1.4142135623730951). However function `plot` may for example produce a plot for given two arguments `x` and `y`. `plot` function takes also 3rd argument 'o' which tells plot function that we want to present it as a dot/point. For plotting we need to use another python module called `matplotlib`    "
   ]
  },
  {
   "cell_type": "code",
   "execution_count": null,
   "metadata": {},
   "outputs": [],
   "source": [
    "from matplotlib import pyplot\n",
    "from numpy import sqrt\n",
    "x = 2\n",
    "y = numpy.sqrt(x)\n",
    "pyplot.plot(x,y,'o')"
   ]
  },
  {
   "cell_type": "markdown",
   "metadata": {},
   "source": [
    "### Lists/vectors"
   ]
  },
  {
   "cell_type": "markdown",
   "metadata": {},
   "source": [
    "The plot with just a single point is probably not so exciting. We therefore may want to plot how our `sqrt` function behave on set of points ranging from 1 to 10. The only modification that we need to do to above code involves redefining x = 2 to x = [1,2,4,5,6,7,8,9,10]. This collection of points in python is called list and in this case very much remids vector.    "
   ]
  },
  {
   "cell_type": "code",
   "execution_count": null,
   "metadata": {},
   "outputs": [],
   "source": [
    "from matplotlib import pyplot\n",
    "from numpy import sqrt\n",
    "x = [1,2,4,5,6,7,8,9,10]\n",
    "y = numpy.sqrt(x)\n",
    "pyplot.plot(x,y,'o')"
   ]
  },
  {
   "cell_type": "code",
   "execution_count": null,
   "metadata": {},
   "outputs": [],
   "source": []
  }
 ],
 "metadata": {
  "kernelspec": {
   "display_name": "Python 3",
   "language": "python",
   "name": "python3"
  },
  "language_info": {
   "codemirror_mode": {
    "name": "ipython",
    "version": 3
   },
   "file_extension": ".py",
   "mimetype": "text/x-python",
   "name": "python",
   "nbconvert_exporter": "python",
   "pygments_lexer": "ipython3",
   "version": "3.7.3"
  },
  "varInspector": {
   "cols": {
    "lenName": 16,
    "lenType": 16,
    "lenVar": 40
   },
   "kernels_config": {
    "python": {
     "delete_cmd_postfix": "",
     "delete_cmd_prefix": "del ",
     "library": "var_list.py",
     "varRefreshCmd": "print(var_dic_list())"
    },
    "r": {
     "delete_cmd_postfix": ") ",
     "delete_cmd_prefix": "rm(",
     "library": "var_list.r",
     "varRefreshCmd": "cat(var_dic_list()) "
    }
   },
   "types_to_exclude": [
    "module",
    "function",
    "builtin_function_or_method",
    "instance",
    "_Feature"
   ],
   "window_display": false
  }
 },
 "nbformat": 4,
 "nbformat_minor": 2
}
