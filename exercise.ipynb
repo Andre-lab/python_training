{
 "cells": [
  {
   "cell_type": "markdown",
   "metadata": {},
   "source": [
    "## Exercise 1: Analyzing Circular Dichroism data from alpha-lactalbumin"
   ]
  },
  {
   "cell_type": "markdown",
   "metadata": {},
   "source": [
    "The main aim of this exercise is to familiarize with data loading and simple plotting with matplotlib. We will work with circular dichroism data for alpha-lactalbumin structure, which we will first visualize using nglview. To load data and save data file we will use module called numpy"
   ]
  },
  {
   "cell_type": "markdown",
   "metadata": {},
   "source": [
    "### Circular Dichroism (CD)\n",
    "[Circular Dichroism (CD)](https://en.wikipedia.org/wiki/Circular_dichroism) is a spectroscopic technique that  measures the difference in absorption of left- and right-handed circular polarized light from optically active samples. Optical activate samples are charaterized by possessing chiral or asymmetric molecules. For proteins, different secondary structural components such as [beta sheets](https://en.wikipedia.org/wiki/Beta_sheet),  [alpha helices](https://en.wikipedia.org/wiki/Alpha_helix) and the absent of them, reffered to as [random coils](https://en.wikipedia.org/wiki/Random_coil), absorbs circular polarized light differently and this can be measured with CD. See **Figure 1** below. \n",
    "\n",
    "<img src=\"images/cd_spectra.png\">\n",
    "<p><center><b>Figure 1:</b> An example of circular dichroism data highlighting the difference between pure alpha helical, beta-sheet and random coil proteins. </center></p>\n",
    "\n"
   ]
  },
  {
   "cell_type": "markdown",
   "metadata": {},
   "source": [
    "## Visualization of the ALPHA-LACTALBUMIN\n",
    "<a id='1'></a>"
   ]
  },
  {
   "cell_type": "markdown",
   "metadata": {},
   "source": [
    "The [Protein Data Bank (PDB)](https://www.rcsb.org) is a databank of solved protein structures and contains structures solved with both X-ray crystallography and Nuclear Magnetic Resonance (NMR). Solved structures have a \"PDB ID\" which is given by 4 characters. In this exercise we will deal with the solved structure alpha-lactalbumin PDB ID [1A4V](https://www.rcsb.org/structure/1A4V) "
   ]
  },
  {
   "cell_type": "markdown",
   "metadata": {},
   "source": [
    "### nglview\n",
    "[nglview](http://nglviewer.org/nglview/latest/index.html#) is a molecular structure viewer that can be used in a Jupyter Notebook. The documentation (API) is [here](http://nglviewer.org/nglview/latest/api.html). It can show and manipulate the visual aspects of molecular structures (see [here](http://nglviewer.org/ngl/gallery/index.html) for examples). To show a molecular structure you just have to do: \n",
    "\n",
    "```python\n",
    "from nglview import show_pdbid\n",
    "view = show_pdbid(\"PDBID\") # replace PDBID with actual PDB ID. ex: nglview.show_pdbid(\"1A4V\")\n",
    "view\n",
    "```\n",
    "\n",
    "`nglview` can fetch the protein structure with a given PDB ID directly from the PDB. Calling view as above embeds a viewer in the Notebook.  This will show the default version of the structure."
   ]
  },
  {
   "cell_type": "markdown",
   "metadata": {},
   "source": [
    "**(1) Python task:** <br>\n",
    "Visualize the crystal structure of 193L with nglviewer using the code above."
   ]
  },
  {
   "cell_type": "code",
   "execution_count": 3,
   "metadata": {},
   "outputs": [
    {
     "data": {
      "application/vnd.jupyter.widget-view+json": {
       "model_id": "98a93ec7aaaf4b8686f2a804fdc61f28",
       "version_major": 2,
       "version_minor": 0
      },
      "text/plain": [
       "NGLWidget()"
      ]
     },
     "metadata": {},
     "output_type": "display_data"
    }
   ],
   "source": [
    "# -- YOUR CODE HERE --\n",
    "# ---------------------\n",
    "from nglview import show_pdbid\n",
    "view = show_pdbid(\"1A4V\") # replace PDBID with actual PDB ID. ex: nglview.show_pdbid(\"1A4V\")\n",
    "view"
   ]
  },
  {
   "cell_type": "markdown",
   "metadata": {},
   "source": [
    "## Reading and visualizing CD heat denaturation data.\n",
    "<a id='3'></a>"
   ]
  },
  {
   "cell_type": "markdown",
   "metadata": {},
   "source": [
    "A CD heat denaturation spectra for alpha-lactalbumin has been recorded from 190 to 250 nm in the temperature range 25-99 $^{\\circ}$C on a JASCO J-815 spectropolarimeter. The raw data file can be found in the file ```data/AL_cd_dataA.txt```. The first thing that we usually want to do is to look at our raw data file. \n",
    "\n",
    "**Open the raw data file in Jupyter**. To load the data into, and to manipulate them in our Notebook, we will utilize the python library `numpy`. Notice that we have some header lines in the raw data file we do not want and the data is organized into coloumns where the coloumns are a specific wavelength (values from 190 to 250) and the rows are specific temperature (values from 25 to 99). "
   ]
  },
  {
   "cell_type": "markdown",
   "metadata": {},
   "source": [
    "**(2) Python Task:** <br>\n",
    "Read in the CD data into a `numpy` by finishing the code below. `filename` is the name of the file that contains CD data and `skip_top_lines` is the number of first lines to be skipped when reading in the file and `skip_bottom_lines` lines to be skipped at the end of file.  "
   ]
  },
  {
   "cell_type": "code",
   "execution_count": 2,
   "metadata": {},
   "outputs": [],
   "source": [
    "# -- YOUR CODE BELOW --\n",
    "file_name = # Fill out\n",
    "skip_top_lines = # Fill out.\n",
    "skip_bottom_lines = #Fill out\n",
    "# --------------------\n",
    "from numpy import genfromtxt\n",
    "cd_data = genfromtxt(file_name, skip_header=skip_top_lines, skip_footer=skip_bottom_lines)"
   ]
  },
  {
   "cell_type": "markdown",
   "metadata": {},
   "source": [
    "### Solution"
   ]
  },
  {
   "cell_type": "code",
   "execution_count": 4,
   "metadata": {},
   "outputs": [],
   "source": [
    "from numpy import genfromtxt\n",
    "file_name = 'data/AL_cd_dataA.txt'\n",
    "skip_top_lines = 20\n",
    "skip_bottom_lines = 50 \n",
    "\n",
    "cd_data = genfromtxt(file_name, skip_header = skip_top_lines, skip_footer = skip_bottom_lines)"
   ]
  },
  {
   "cell_type": "markdown",
   "metadata": {},
   "source": [
    "### Plotting the data"
   ]
  },
  {
   "cell_type": "markdown",
   "metadata": {},
   "source": [
    "**(3) Python Task:** <br>\n",
    "We will now plot cd data using `matplotlib` library. We will however first need do to define which column correspond to what data type. The syntax for this may look little bit complicated but it is quite intuitive. For example in order to extact first column one can write `wavelenght = cd_data[:,0]`. Why there is `0` instead of `1`? This is how things are typically counted in python i.e. starting from `0`.   "
   ]
  },
  {
   "cell_type": "code",
   "execution_count": null,
   "metadata": {},
   "outputs": [],
   "source": [
    "# -- YOUR CODE BELOW --\n",
    "wavelenght = cd_data[:,#Fill out]\n",
    "circular_dichroism = cd_data[:,#Fill out]\n",
    "# --------------------\n",
    "from matplotlib import pyplot\n",
    "pyplot.plot(wavelenght,circular_dichroism)"
   ]
  },
  {
   "cell_type": "markdown",
   "metadata": {},
   "source": [
    "**(4) Python Task:** <br>\n",
    "Clearly there is something missing from the plot, namely labels on axes. These can be added using `xlabel` and `ylabel` functions.  Modify code above by adding `pyplot.xlabel('wavelenght [nm]')` and `pyplot.ylabel('circular dichroism')` to code above (after `pyplot.plot(wavelenght,circular_dichroism, 'o')`)\n"
   ]
  },
  {
   "cell_type": "markdown",
   "metadata": {},
   "source": [
    "### Plot properties "
   ]
  },
  {
   "cell_type": "markdown",
   "metadata": {},
   "source": [
    "You may want to play a bit with plot properties e.g. changing style, color etc. First of all try to remove `'o'` from plot function and see what happens. And then try adding `'r-'` in the same place where we had `'o'` before. `plot` function has many options and they can be accessed by pressing `Shift+tab+tab` when cursor is point on fucntion (between parentheses) or simply checking [on-line help](https://matplotlib.org/2.1.1/api/_as_gen/matplotlib.pyplot.plot.html) "
   ]
  },
  {
   "cell_type": "markdown",
   "metadata": {},
   "source": [
    "Solution"
   ]
  },
  {
   "cell_type": "code",
   "execution_count": 15,
   "metadata": {},
   "outputs": [
    {
     "data": {
      "text/plain": [
       "Text(0, 0.5, 'circular dichroism')"
      ]
     },
     "execution_count": 15,
     "metadata": {},
     "output_type": "execute_result"
    },
    {
     "data": {
      "image/png": "[encoded data removed]",
      "text/plain": [
       "<Figure size 432x288 with 1 Axes>"
      ]
     },
     "metadata": {
      "needs_background": "light"
     },
     "output_type": "display_data"
    }
   ],
   "source": [
    "wavelenght = cd_data[:,0]\n",
    "circular_dichroism = cd_data[:,1]\n",
    "from matplotlib import pyplot\n",
    "pyplot.plot(wavelenght,circular_dichroism, 'r-')\n",
    "pyplot.xlabel('wavelenght [nm]')\n",
    "pyplot.ylabel('circular dichroism')"
   ]
  },
  {
   "cell_type": "markdown",
   "metadata": {},
   "source": [
    "### Plotting second data set "
   ]
  },
  {
   "cell_type": "markdown",
   "metadata": {},
   "source": [
    "**(5) Python Task:** <br>\n",
    "We now want to plot second cd data set `data/AL_cd_dataB.txt`. This file however doesn't contain any extra lines at the begining and the end of the file. Take it into account when you define `skip_top_lines2` and `skip_bottom_lines2` "
   ]
  },
  {
   "cell_type": "code",
   "execution_count": null,
   "metadata": {},
   "outputs": [],
   "source": [
    "# -- YOUR CODE BELOW --\n",
    "from numpy import genfromtxt\n",
    "from matplotlib import pyplot\n",
    "\n",
    "file_name1 = 'data/AL_cd_dataA.txt'\n",
    "skip_top_lines1 = 20\n",
    "skip_bottom_lines1 = 50 \n",
    "\n",
    "file_name2 = # Fill out\n",
    "skip_top_lines2 = # Fill out\n",
    "skip_bottom_lines2 = # Fill out \n",
    "\n",
    "cd_data1 = genfromtxt(file_name1, skip_header = skip_top_lines1, skip_footer = skip_bottom_lines1)\n",
    "wavelenght1 = cd_data1[:,0]\n",
    "circular_dichroism1 = cd_data1[:,1]\n",
    "\n",
    "cd_data2 = #Fill out for second data set\n",
    "wavelenght2 = # Fill out for second data set\n",
    "circular_dichroism2 = # Fill out for second data set\n",
    "\n",
    "pyplot.plot(wavelenght1, circular_dichroism1)\n",
    "pyplot.plot(# Fill out for second data set)\n",
    "pyplot.xlabel(# Fill out)\n",
    "pyplot.ylabel(# Fill out)"
   ]
  },
  {
   "cell_type": "markdown",
   "metadata": {},
   "source": [
    "**(6) Python Task:** <br>\n",
    "Now modify the plot, so that first data set is shown in read and second is shown in blue"
   ]
  },
  {
   "cell_type": "markdown",
   "metadata": {},
   "source": [
    "Solution"
   ]
  },
  {
   "cell_type": "code",
   "execution_count": 19,
   "metadata": {},
   "outputs": [
    {
     "data": {
      "text/plain": [
       "Text(0, 0.5, 'circular dichroism')"
      ]
     },
     "execution_count": 19,
     "metadata": {},
     "output_type": "execute_result"
    },
    {
     "data": {
      "image/png": "[encoded data removed]",
      "text/plain": [
       "<Figure size 432x288 with 1 Axes>"
      ]
     },
     "metadata": {
      "needs_background": "light"
     },
     "output_type": "display_data"
    }
   ],
   "source": [
    "from numpy import genfromtxt\n",
    "from matplotlib import pyplot\n",
    "\n",
    "file_name1 = 'data/AL_cd_dataA.txt'\n",
    "skip_top_lines1 = 20\n",
    "skip_bottom_lines1 = 50 \n",
    "\n",
    "file_name2 = 'data/AL_cd_dataB.txt'\n",
    "skip_top_lines2 = 0 \n",
    "skip_bottom_lines2 = 0 \n",
    "\n",
    "cd_data1 = genfromtxt(file_name1, skip_header = skip_top_lines1, skip_footer = skip_bottom_lines1)\n",
    "wavelenght1 = cd_data1[:,0]\n",
    "circular_dichroism1 = cd_data1[:,1]\n",
    "\n",
    "cd_data2 = genfromtxt(file_name2, skip_header = skip_top_lines2, skip_footer = skip_bottom_lines2)\n",
    "wavelenght2 = cd_data2[:,0]\n",
    "circular_dichroism2 = cd_data2[:,1]\n",
    "\n",
    "pyplot.plot(wavelenght1, circular_dichroism1, 'r-')\n",
    "pyplot.plot(wavelenght2, circular_dichroism2, 'b-')\n",
    "pyplot.xlabel('wavelenght [nm]')\n",
    "pyplot.ylabel('circular dichroism')"
   ]
  },
  {
   "cell_type": "markdown",
   "metadata": {},
   "source": [
    "**(5) Python Task:** <br>\n",
    "Calculate avereage of two curves and plot it together with two curves above"
   ]
  },
  {
   "cell_type": "code",
   "execution_count": null,
   "metadata": {},
   "outputs": [],
   "source": []
  }
 ],
 "metadata": {
  "kernelspec": {
   "display_name": "Python 3",
   "language": "python",
   "name": "python3"
  },
  "language_info": {
   "codemirror_mode": {
    "name": "ipython",
    "version": 3
   },
   "file_extension": ".py",
   "mimetype": "text/x-python",
   "name": "python",
   "nbconvert_exporter": "python",
   "pygments_lexer": "ipython3",
   "version": "3.7.3"
  },
  "varInspector": {
   "cols": {
    "lenName": 16,
    "lenType": 16,
    "lenVar": 40
   },
   "kernels_config": {
    "python": {
     "delete_cmd_postfix": "",
     "delete_cmd_prefix": "del ",
     "library": "var_list.py",
     "varRefreshCmd": "print(var_dic_list())"
    },
    "r": {
     "delete_cmd_postfix": ") ",
     "delete_cmd_prefix": "rm(",
     "library": "var_list.r",
     "varRefreshCmd": "cat(var_dic_list()) "
    }
   },
   "types_to_exclude": [
    "module",
    "function",
    "builtin_function_or_method",
    "instance",
    "_Feature"
   ],
   "window_display": false
  }
 },
 "nbformat": 4,
 "nbformat_minor": 2
}
