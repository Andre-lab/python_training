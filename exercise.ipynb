{
 "cells": [
  {
   "cell_type": "markdown",
   "metadata": {},
   "source": [
    "## Exercise 1: Analyzing Circular Dichroism data from alpha-lactalbumin"
   ]
  },
  {
   "cell_type": "markdown",
   "metadata": {},
   "source": [
    "The main aim of this exercise is to familiarize with data loading and simple plotting with matplotlib.  \n",
    "We will work with circular dichroism data for alpha-lactalbumin structure, which we will first visualize using `nglview`.  \n",
    "To load data and save data file we will use module called `numpy`"
   ]
  },
  {
   "cell_type": "markdown",
   "metadata": {},
   "source": [
    "### Circular Dichroism (CD)\n",
    "[Circular Dichroism (CD)](https://en.wikipedia.org/wiki/Circular_dichroism) is a spectroscopic technique that  measures the difference in absorption of left- and right-handed circular polarized light from optically active samples. \n",
    "\n",
    "Optical activate samples are characterized by possessing chiral or asymmetric molecules. For proteins, different secondary structural components such as [beta sheets](https://en.wikipedia.org/wiki/Beta_sheet), [alpha helices](https://en.wikipedia.org/wiki/Alpha_helix) and the absence of them, referred to as [random coils](https://en.wikipedia.org/wiki/Random_coil), absorb circular polarized light differently and this can be measured with CD. See **Figure 1** below. \n",
    "\n",
    "<img src=\"images/cd_spectra.png\">\n",
    "<p><center><b>Figure 1:</b> An example of circular dichroism data highlighting the difference between pure alpha helical, beta-sheet and random coil proteins. </center></p>"
   ]
  },
  {
   "cell_type": "markdown",
   "metadata": {},
   "source": [
    "## Visualization of the ALPHA-LACTALBUMIN\n",
    "<a id='1'></a>"
   ]
  },
  {
   "cell_type": "markdown",
   "metadata": {},
   "source": [
    "The [Protein Data Bank (PDB)](https://www.rcsb.org) is a databank of solved protein structures and contains structures solved with both X-ray crystallography and Nuclear Magnetic Resonance (NMR). Solved structures have a \"PDB ID\" which is given by 4 characters. In this exercise we will deal with the solved structure alpha-lactalbumin PDB ID [1A4V](https://www.rcsb.org/structure/1A4V) "
   ]
  },
  {
   "cell_type": "markdown",
   "metadata": {},
   "source": [
    "### nglview\n",
    "[nglview](http://nglviewer.org/nglview/latest/index.html#) is a molecular structure viewer that can be used in a Jupyter Notebook. The documentation (API) can be found [here](http://nglviewer.org/nglview/latest/api.html). It can show and manipulate the visual aspects of molecular structures (see [here](http://nglviewer.org/ngl/gallery/index.html) for examples). To display a molecular structure you just have to do: \n",
    "\n",
    "```python\n",
    "from nglview import show_pdbid\n",
    "view = show_pdbid(\"PDBID\") # replace PDBID with actual PDB ID. ex: nglview.show_pdbid(\"1A4V\")\n",
    "view\n",
    "```\n",
    "\n",
    "`nglview` can fetch the protein structure with a given PDB ID directly from the PDB. Calling `view` as above embeds a viewer in the Notebook.  This will show the default version of the structure."
   ]
  },
  {
   "cell_type": "markdown",
   "metadata": {},
   "source": [
    "**(1) Python Task:** <br>\n",
    "Visualize the crystal structure of 193L with nglviewer using the code above."
   ]
  },
  {
   "cell_type": "code",
   "execution_count": 1,
   "metadata": {},
   "outputs": [
    {
     "data": {
      "application/vnd.jupyter.widget-view+json": {
       "model_id": "cf82e6c8a2fa473482cb831bcf3f4589",
       "version_major": 2,
       "version_minor": 0
      },
      "text/plain": [
       "_ColormakerRegistry()"
      ]
     },
     "metadata": {},
     "output_type": "display_data"
    },
    {
     "data": {
      "application/vnd.jupyter.widget-view+json": {
       "model_id": "446a300953ed4973ae2abcbeed45e590",
       "version_major": 2,
       "version_minor": 0
      },
      "text/plain": [
       "NGLWidget()"
      ]
     },
     "metadata": {},
     "output_type": "display_data"
    }
   ],
   "source": [
    "# -- YOUR CODE HERE --\n",
    "# --------------------\n",
    "from nglview import show_pdbid\n",
    "view = show_pdbid(\"PDBID\") # replace PDBID with actual PDB ID\n",
    "view"
   ]
  },
  {
   "cell_type": "markdown",
   "metadata": {},
   "source": [
    "## Reading and visualizing CD heat denaturation data.\n",
    "<a id='3'></a>"
   ]
  },
  {
   "cell_type": "markdown",
   "metadata": {},
   "source": [
    "A set of CD heat denaturation spectra for alpha-lactalbumin has been recorded from 190 to 250 nm in the temperature range 25-99 $^{\\circ}$C on a JASCO J-815 spectropolarimeter. The raw data file can be found in the file ```data/AL_cd_dataA.txt```. The first thing that we usually want to do is to look at our raw data file. \n",
    "\n",
    "**Open the raw data file in Jupyter**. To load the data into, and to manipulate them in our Notebook, we will use the Python library `numpy`. Notice that we have some header lines in the raw data file we do not want and the data are organized into columns where each column corresponds to a specific wavelength (values from 190 to 250) and each row to a specific temperature (values from 25 to 99). "
   ]
  },
  {
   "cell_type": "markdown",
   "metadata": {},
   "source": [
    "**(2) Python Task:** <br>\n",
    "Read in the CD data into a `numpy` by finishing the code below. `filename` is the name of the file that contains CD data and `skip_top_lines` is the number of first lines to be skipped when reading in the file and `skip_bottom_lines` lines to be skipped at the end of file.  "
   ]
  },
  {
   "cell_type": "code",
   "execution_count": null,
   "metadata": {},
   "outputs": [],
   "source": [
    "# -- YOUR CODE BELOW --\n",
    "file_name = # Fill out\n",
    "skip_top_lines = # Fill out.\n",
    "skip_bottom_lines = #Fill out\n",
    "# --------------------\n",
    "from numpy import genfromtxt\n",
    "cd_data = genfromtxt(file_name, skip_header=skip_top_lines, skip_footer=skip_bottom_lines)"
   ]
  },
  {
   "cell_type": "markdown",
   "metadata": {},
   "source": [
    "### Plotting the data"
   ]
  },
  {
   "cell_type": "markdown",
   "metadata": {},
   "source": [
    "**(3) Python Task:** <br>\n",
    "We will now plot CD data using `matplotlib` library. However we will first need to define which column corresponds to what data type.  \n",
    "The syntax for this may look a little bit complicated but it is quite intuitive.  \n",
    "For example in order to extract the first column one can write `wavelength = cd_data[:,0]`. \n",
    "Why there is `0` instead of `1`? This is how things are typically counted in Python *i.e.* starting from `0`.   "
   ]
  },
  {
   "cell_type": "code",
   "execution_count": null,
   "metadata": {},
   "outputs": [],
   "source": [
    "# -- YOUR CODE BELOW --\n",
    "wavelength = cd_data[:,#Fill out]\n",
    "circular_dichroism = cd_data[:,#Fill out]\n",
    "# --------------------\n",
    "from matplotlib import pyplot\n",
    "pyplot.plot(wavelength, circular_dichroism)"
   ]
  },
  {
   "cell_type": "markdown",
   "metadata": {},
   "source": [
    "**(4) Python Task:** <br>\n",
    "Clearly there is something missing from the plot, namely labels on axes. These can be added using `xlabel` and `ylabel` functions.  Modify the code above by adding `pyplot.xlabel('wavelength [nm]')` and `pyplot.ylabel('circular dichroism')` to code above (after `pyplot.plot(wavelength, circular_dichroism, 'o')`)\n"
   ]
  },
  {
   "cell_type": "markdown",
   "metadata": {},
   "source": [
    "### Plot properties "
   ]
  },
  {
   "cell_type": "markdown",
   "metadata": {},
   "source": [
    "You may want to play a bit with the plot properties *e.g.* changing style, color etc.  \n",
    "First of all try to remove `'o'` from the `plot` function and see what happens.  \n",
    "And then try adding `'r-'` in the same place where we had `'o'` before.  \n",
    "`plot` function has many options and they can be accessed by pressing `Shift+tab+tab` when cursor is pointing on function (between parentheses) or simply checking [on-line help](https://matplotlib.org/2.1.1/api/_as_gen/matplotlib.pyplot.plot.html) "
   ]
  },
  {
   "cell_type": "markdown",
   "metadata": {},
   "source": [
    "### Plotting a second data set "
   ]
  },
  {
   "cell_type": "markdown",
   "metadata": {},
   "source": [
    "**(5) Python Task:** <br>\n",
    "We now want to plot second CD data set `data/AL_cd_dataB.txt`. This file however doesn't contain any extra lines at the beginning and the end of the file. Take this into account when you define `skip_top_lines2` and `skip_bottom_lines2` "
   ]
  },
  {
   "cell_type": "code",
   "execution_count": null,
   "metadata": {},
   "outputs": [],
   "source": [
    "# -- YOUR CODE BELOW --\n",
    "from numpy import genfromtxt\n",
    "from matplotlib import pyplot\n",
    "\n",
    "file_name1 = 'data/AL_cd_dataA.txt'\n",
    "skip_top_lines1 = 20\n",
    "skip_bottom_lines1 = 50 \n",
    "\n",
    "file_name2 = # Fill out\n",
    "skip_top_lines2 = # Fill out\n",
    "skip_bottom_lines2 = # Fill out \n",
    "\n",
    "cd_data1 = genfromtxt(file_name1, skip_header = skip_top_lines1, skip_footer = skip_bottom_lines1)\n",
    "wavelength1 = cd_data1[:,0]\n",
    "circular_dichroism1 = cd_data1[:,1]\n",
    "\n",
    "cd_data2 = #Fill out for second data set\n",
    "wavelength2 = # Fill out for second data set\n",
    "circular_dichroism2 = # Fill out for second data set\n",
    "\n",
    "pyplot.plot(wavelength1, circular_dichroism1)\n",
    "pyplot.plot(# Fill out for second data set)\n",
    "pyplot.xlabel(# Fill out)\n",
    "pyplot.ylabel(# Fill out)"
   ]
  },
  {
   "cell_type": "markdown",
   "metadata": {},
   "source": [
    "**(6) Python Task:** <br>\n",
    "Now modify the plot, so that first data set is shown in <span style=\"color:red\">red </span> and second is shown in <span style=\"color:blue\">blue </span>"
   ]
  },
  {
   "cell_type": "markdown",
   "metadata": {},
   "source": [
    "**(5) Python Task (Optional):** <br>\n",
    "Calculate the average of the two curves and add the result together with two curves above"
   ]
  },
  {
   "cell_type": "code",
   "execution_count": null,
   "metadata": {},
   "outputs": [],
   "source": []
  },
  {
   "cell_type": "code",
   "execution_count": null,
   "metadata": {},
   "outputs": [],
   "source": []
  },
  {
   "cell_type": "code",
   "execution_count": null,
   "metadata": {},
   "outputs": [],
   "source": []
  },
  {
   "cell_type": "code",
   "execution_count": null,
   "metadata": {},
   "outputs": [],
   "source": []
  },
  {
   "cell_type": "code",
   "execution_count": null,
   "metadata": {},
   "outputs": [],
   "source": []
  },
  {
   "cell_type": "markdown",
   "metadata": {},
   "source": [
    "### Solutions"
   ]
  },
  {
   "cell_type": "markdown",
   "metadata": {},
   "source": [
    "**Python Task (1):** <br>"
   ]
  },
  {
   "cell_type": "code",
   "execution_count": 3,
   "metadata": {},
   "outputs": [
    {
     "data": {
      "application/vnd.jupyter.widget-view+json": {
       "model_id": "5faaab1e2e34421b840e2845fe0ed04e",
       "version_major": 2,
       "version_minor": 0
      },
      "text/plain": [
       "_ColormakerRegistry()"
      ]
     },
     "metadata": {},
     "output_type": "display_data"
    },
    {
     "data": {
      "application/vnd.jupyter.widget-view+json": {
       "model_id": "6ce832a56b394739935c3aa78d4816f1",
       "version_major": 2,
       "version_minor": 0
      },
      "text/plain": [
       "NGLWidget()"
      ]
     },
     "metadata": {},
     "output_type": "display_data"
    }
   ],
   "source": [
    "from nglview import show_pdbid\n",
    "view = show_pdbid(\"1A4V\") \n",
    "view"
   ]
  },
  {
   "cell_type": "markdown",
   "metadata": {},
   "source": [
    "**Python Task (2):** <br>"
   ]
  },
  {
   "cell_type": "code",
   "execution_count": null,
   "metadata": {},
   "outputs": [],
   "source": [
    "from numpy import genfromtxt\n",
    "file_name = 'data/AL_cd_dataA.txt'\n",
    "skip_top_lines = 20\n",
    "skip_bottom_lines = 50 \n",
    "\n",
    "cd_data = genfromtxt(file_name, skip_header = skip_top_lines, skip_footer = skip_bottom_lines)"
   ]
  },
  {
   "cell_type": "markdown",
   "metadata": {},
   "source": [
    "**Python Task (3 and 4):** <br>"
   ]
  },
  {
   "cell_type": "code",
   "execution_count": null,
   "metadata": {},
   "outputs": [],
   "source": [
    "wavelength = cd_data[:,0]\n",
    "circular_dichroism = cd_data[:,1]\n",
    "from matplotlib import pyplot\n",
    "pyplot.plot(wavelength, circular_dichroism, 'r-')\n",
    "pyplot.xlabel('wavelength [nm]')\n",
    "pyplot.ylabel('circular dichroism')"
   ]
  },
  {
   "cell_type": "markdown",
   "metadata": {},
   "source": [
    "**Python Task (5):** <br>"
   ]
  },
  {
   "cell_type": "code",
   "execution_count": 8,
   "metadata": {},
   "outputs": [
    {
     "data": {
      "text/plain": [
       "Text(0, 0.5, 'circular dichroism')"
      ]
     },
     "execution_count": 8,
     "metadata": {},
     "output_type": "execute_result"
    },
    {
     "data": {
      "image/png": "[encoded data removed]",
      "text/plain": [
       "<Figure size 432x288 with 1 Axes>"
      ]
     },
     "metadata": {
      "needs_background": "light"
     },
     "output_type": "display_data"
    }
   ],
   "source": [
    "from numpy import genfromtxt\n",
    "from matplotlib import pyplot\n",
    "\n",
    "file_name1 = 'data/AL_cd_dataA.txt'\n",
    "skip_top_lines1 = 20\n",
    "skip_bottom_lines1 = 41 \n",
    "\n",
    "file_name2 = 'data/AL_cd_dataB.txt'\n",
    "skip_top_lines2 = 20 \n",
    "skip_bottom_lines2 = 41 \n",
    "\n",
    "cd_data1 = genfromtxt(file_name1, skip_header = skip_top_lines1, skip_footer = skip_bottom_lines1)\n",
    "wavelength1 = cd_data1[:,0]\n",
    "circular_dichroism1 = cd_data1[:,1]\n",
    "\n",
    "cd_data2 = genfromtxt(file_name2, skip_header = skip_top_lines2, skip_footer = skip_bottom_lines2)\n",
    "wavelength2 = cd_data2[:,0]\n",
    "circular_dichroism2 = cd_data2[:,1]\n",
    "\n",
    "pyplot.plot(wavelength1, circular_dichroism1, 'r-')\n",
    "pyplot.plot(wavelength2, circular_dichroism2, 'b-')\n",
    "pyplot.xlabel('wavelength [nm]')\n",
    "pyplot.ylabel('circular dichroism')"
   ]
  },
  {
   "cell_type": "code",
   "execution_count": null,
   "metadata": {},
   "outputs": [],
   "source": []
  }
 ],
 "metadata": {
  "kernelspec": {
   "display_name": "Python 3",
   "language": "python",
   "name": "python3"
  },
  "language_info": {
   "codemirror_mode": {
    "name": "ipython",
    "version": 3
   },
   "file_extension": ".py",
   "mimetype": "text/x-python",
   "name": "python",
   "nbconvert_exporter": "python",
   "pygments_lexer": "ipython3",
   "version": "3.7.3"
  },
  "toc": {
   "base_numbering": 1,
   "nav_menu": {},
   "number_sections": true,
   "sideBar": true,
   "skip_h1_title": false,
   "title_cell": "Table of Contents",
   "title_sidebar": "Contents",
   "toc_cell": false,
   "toc_position": {},
   "toc_section_display": true,
   "toc_window_display": false
  },
  "varInspector": {
   "cols": {
    "lenName": 16,
    "lenType": 16,
    "lenVar": 40
   },
   "kernels_config": {
    "python": {
     "delete_cmd_postfix": "",
     "delete_cmd_prefix": "del ",
     "library": "var_list.py",
     "varRefreshCmd": "print(var_dic_list())"
    },
    "r": {
     "delete_cmd_postfix": ") ",
     "delete_cmd_prefix": "rm(",
     "library": "var_list.r",
     "varRefreshCmd": "cat(var_dic_list()) "
    }
   },
   "types_to_exclude": [
    "module",
    "function",
    "builtin_function_or_method",
    "instance",
    "_Feature"
   ],
   "window_display": false
  }
 },
 "nbformat": 4,
 "nbformat_minor": 2
}
