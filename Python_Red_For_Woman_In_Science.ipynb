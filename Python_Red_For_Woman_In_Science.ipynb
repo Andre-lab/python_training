{
 "cells": [
  {
   "cell_type": "markdown",
   "metadata": {},
   "source": [
    "## Python workshop\n",
    "### Red for women in science\n",
    "<img src=\"images/rmws.png\">"
   ]
  },
  {
   "cell_type": "markdown",
   "metadata": {},
   "source": [
    "### Agenda\n",
    "* 10:00 - 10:05 Introduction\n",
    "* 10:05 - 10:20 Why phython?\n",
    "* 10:20 - 10:45 Introduction to python and jupyter notebook\n",
    "* 10:45 - 10:50 Scientific Background for excercise\n",
    "* 10:50 - 11:00 Introduction to exercise notebook\n",
    "* 11:00 - 12:00 Exercise\n",
    "* 13:00 - 14:30 Exercise continued\n",
    "* 14:30 - 15:00 Closing remarks and options for continuation"
   ]
  },
  {
   "cell_type": "markdown",
   "metadata": {},
   "source": [
    "## Instructors:"
   ]
  },
  {
   "cell_type": "markdown",
   "metadata": {},
   "source": [
    "* Celine Durniak (ESS)\n",
    "* Najala Hosseini (LU)\n",
    "* Tinna Palmadottir (LU)\n",
    "* Wojtek Potrzebowski (ESS/LU)\n",
    "* Isabel Vinterbladh (LU)"
   ]
  },
  {
   "cell_type": "code",
   "execution_count": null,
   "metadata": {},
   "outputs": [],
   "source": []
  },
  {
   "cell_type": "code",
   "execution_count": null,
   "metadata": {},
   "outputs": [],
   "source": []
  },
  {
   "cell_type": "code",
   "execution_count": null,
   "metadata": {},
   "outputs": [],
   "source": []
  },
  {
   "cell_type": "markdown",
   "metadata": {},
   "source": [
    "## What's next? "
   ]
  },
  {
   "cell_type": "markdown",
   "metadata": {},
   "source": [
    "* You are welcome to continue working with this notebooks for 2 more weeks  \n",
    "* You can install local version of jupyter-hub (e.g anaconda, jupyter-notebook, spyder)\n",
    "* Python course at COMPUTE\n"
   ]
  },
  {
   "cell_type": "code",
   "execution_count": null,
   "metadata": {},
   "outputs": [],
   "source": []
  }
 ],
 "metadata": {
  "kernelspec": {
   "display_name": "Python 3",
   "language": "python",
   "name": "python3"
  },
  "language_info": {
   "codemirror_mode": {
    "name": "ipython",
    "version": 3
   },
   "file_extension": ".py",
   "mimetype": "text/x-python",
   "name": "python",
   "nbconvert_exporter": "python",
   "pygments_lexer": "ipython3",
   "version": "3.7.3"
  },
  "varInspector": {
   "cols": {
    "lenName": 16,
    "lenType": 16,
    "lenVar": 40
   },
   "kernels_config": {
    "python": {
     "delete_cmd_postfix": "",
     "delete_cmd_prefix": "del ",
     "library": "var_list.py",
     "varRefreshCmd": "print(var_dic_list())"
    },
    "r": {
     "delete_cmd_postfix": ") ",
     "delete_cmd_prefix": "rm(",
     "library": "var_list.r",
     "varRefreshCmd": "cat(var_dic_list()) "
    }
   },
   "types_to_exclude": [
    "module",
    "function",
    "builtin_function_or_method",
    "instance",
    "_Feature"
   ],
   "window_display": false
  }
 },
 "nbformat": 4,
 "nbformat_minor": 2
}
